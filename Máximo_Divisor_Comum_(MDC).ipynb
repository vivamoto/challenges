{
  "nbformat": 4,
  "nbformat_minor": 0,
  "metadata": {
    "colab": {
      "name": "Máximo Divisor Comum (MDC).ipynb",
      "provenance": [],
      "authorship_tag": "ABX9TyMCF/RNTMIQTUBWrrr2xoYm",
      "include_colab_link": true
    },
    "kernelspec": {
      "name": "python3",
      "display_name": "Python 3"
    }
  },
  "cells": [
    {
      "cell_type": "markdown",
      "metadata": {
        "id": "view-in-github",
        "colab_type": "text"
      },
      "source": [
        "<a href=\"https://colab.research.google.com/github/vivamoto/challenges/blob/master/M%C3%A1ximo_Divisor_Comum_(MDC).ipynb\" target=\"_parent\"><img src=\"https://colab.research.google.com/assets/colab-badge.svg\" alt=\"Open In Colab\"/></a>"
      ]
    },
    {
      "cell_type": "markdown",
      "metadata": {
        "id": "3jiIUUNC58NU"
      },
      "source": [
        "# 1. Máximo Divisor Comum (MDC)\r\n",
        "Calcule o MDC de dois números, conforme exemplo na tabela abaixo.\r\n",
        "```\r\n",
        "ENTRADAS  SAÍDA ESPERADA\r\n",
        "10                2\r\n",
        "2 4               5\r\n",
        "10 5              1\r\n",
        "21 13           100\r\n",
        "100 100           3\r\n",
        "123 456           1\r\n",
        "883 991         193\r\n",
        "579 965          57\r\n",
        "969 741          78\r\n",
        "546 858           5\r\n",
        "1000 255\r\n",
        "```"
      ]
    },
    {
      "cell_type": "code",
      "metadata": {
        "colab": {
          "base_uri": "https://localhost:8080/"
        },
        "id": "ue6uhJsf56IS",
        "outputId": "5b76f09e-8219-4f69-e602-600caa118018"
      },
      "source": [
        "def processInput ( input ):\r\n",
        "    # \"Aqui você deve criar seu algoritmo para processar a entrada e depois retorna-la.\"\r\n",
        "    # Get the two integers from string\r\n",
        "    result = ''\r\n",
        "    for row in input.split('\\n'):\r\n",
        "      if not ' ' in row:\r\n",
        "        continue\r\n",
        "      i, j = row.split(' ')\r\n",
        "      A = int(i)\r\n",
        "      B = int(j)\r\n",
        "    \r\n",
        "      # B is the smallest value\r\n",
        "      if A < B:\r\n",
        "        A, B = B, A\r\n",
        "\r\n",
        "      # \r\n",
        "      if B == 0:\r\n",
        "        result += str(A) + '\\n'\r\n",
        "      \r\n",
        "      # Compute MDC\r\n",
        "      while (A % B) != 0:\r\n",
        "        C = B\r\n",
        "        B = A % B \r\n",
        "        A = C\r\n",
        "      result += str(B) + '\\n'\r\n",
        "    \r\n",
        "    return result\r\n",
        "\r\n",
        "\r\n",
        "values = '10\\n2 4\\n10 5\\n21 13\\n100 100\\n123 456\\n883 991\\n579 965\\n969 741\\n546 858\\n1000 255'\r\n",
        "\r\n",
        "print(processInput(values))\r\n"
      ],
      "execution_count": 1,
      "outputs": [
        {
          "output_type": "stream",
          "text": [
            "2\n",
            "5\n",
            "1\n",
            "100\n",
            "3\n",
            "1\n",
            "193\n",
            "57\n",
            "78\n",
            "5\n",
            "\n"
          ],
          "name": "stdout"
        }
      ]
    }
  ]
}