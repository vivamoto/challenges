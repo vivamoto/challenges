{
  "nbformat": 4,
  "nbformat_minor": 0,
  "metadata": {
    "colab": {
      "name": "Transposição de matriz.ipynb",
      "provenance": [],
      "collapsed_sections": [],
      "authorship_tag": "ABX9TyMfaSZXiG9VCdJ1pAOv0lZo",
      "include_colab_link": true
    },
    "kernelspec": {
      "name": "python3",
      "display_name": "Python 3"
    }
  },
  "cells": [
    {
      "cell_type": "markdown",
      "metadata": {
        "id": "view-in-github",
        "colab_type": "text"
      },
      "source": [
        "<a href=\"https://colab.research.google.com/github/vivamoto/challenges/blob/master/Transposi%C3%A7%C3%A3o_de_matriz.ipynb\" target=\"_parent\"><img src=\"https://colab.research.google.com/assets/colab-badge.svg\" alt=\"Open In Colab\"/></a>"
      ]
    },
    {
      "cell_type": "markdown",
      "metadata": {
        "id": "uGAkMwve9ONi"
      },
      "source": [
        "# Transposição de matriz\r\n",
        "\r\n",
        "Transponha uma matriz seguindo o conceito:\r\n",
        "\r\n",
        "\r\n",
        "\r\n",
        "Tomando por base uma matriz A de ordem m x n, teremos a sua matriz transposta indicada por A t, invertendo as posições de m e n, isto é, n x m.\r\n",
        "\r\n",
        "**Entrada:**\r\n",
        "\r\n",
        "A primeira linha de entrada contém dois números m e n (1 ≤ m, n ≤ 200) correspondendo respectivamente ao número de linhas e ao número de colunas da matriz. É então seguido de m linhas com n números em cada coluna.\r\n",
        "\r\n",
        "**Saída:**\r\n",
        "\r\n",
        "A saída deve conter a matriz transposta.\r\n",
        "\r\n",
        "**Teste case:**\r\n",
        "```\r\n",
        "ENTRADAS\r\n",
        "4 3\r\n",
        "1 2 5\r\n",
        "4 3 3\r\n",
        "3 4 9\r\n",
        "8 7 7\r\n",
        "\r\n",
        "SAÍDA ESPERADA\r\n",
        "1 4 3 8\r\n",
        "2 3 4 7\r\n",
        "5 3 9 7\r\n",
        "```"
      ]
    },
    {
      "cell_type": "code",
      "metadata": {
        "colab": {
          "base_uri": "https://localhost:8080/"
        },
        "id": "pXwVAEDc9Nvy",
        "outputId": "1e96da78-11e4-45e1-d864-ed7d790e2be3"
      },
      "source": [
        "def processInput ( input ):\r\n",
        "    # \"Aqui você deve criar seu algoritmo para processar a entrada e depois retorna-la.\"\r\n",
        "    vec.append(input)\r\n",
        "    first_row = vec[0].split(' ')\r\n",
        "    m = int(first_row[0])   # Número de linhas da matriz\r\n",
        "    n = int(first_row[1])   # Número de colunas da matriz\r\n",
        "    \r\n",
        "    result = ''\r\n",
        "    if len(vec) == m + 1:\r\n",
        "      # Monta a matriz original (uma lista por linha de entrada)\r\n",
        "      values = []\r\n",
        "      for row in vec[1:]:\r\n",
        "        values.append([int(i) for i in row.split(' ')])\r\n",
        "      \r\n",
        "      # Monta a matriz transposta\r\n",
        "      for j in range(n):\r\n",
        "        for i in range(m):\r\n",
        "          result += str(values[i][j]) + ' '\r\n",
        "        result = result[:-1] + '\\n'   # Tira o espaço no final da linha e adiciona enter\r\n",
        "        \r\n",
        "    return result\r\n",
        "\r\n",
        "#Este e um exemplo de processamento de entradas (inputs), sinta-se a vontade para altera-lo conforme necessidade da questao.\r\n",
        "vec = []\r\n",
        "values = ['4 3\\r', \r\n",
        "          '1 2 5\\r', \r\n",
        "          '4 3 3\\r', \r\n",
        "          '3 4 9\\r', \r\n",
        "          '8 7 7\\r']\r\n",
        "\r\n",
        "for value in values:\r\n",
        "  print(processInput(value)) "
      ],
      "execution_count": 1,
      "outputs": [
        {
          "output_type": "stream",
          "text": [
            "\n",
            "\n",
            "\n",
            "\n",
            "1 4 3 8\n",
            "2 3 4 7\n",
            "5 3 9 7\n",
            "\n"
          ],
          "name": "stdout"
        }
      ]
    }
  ]
}