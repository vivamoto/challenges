{
  "nbformat": 4,
  "nbformat_minor": 0,
  "metadata": {
    "colab": {
      "name": "Número faltante.ipynb",
      "provenance": [],
      "authorship_tag": "ABX9TyM/tzwD3wCSsc8OB8wktgIx",
      "include_colab_link": true
    },
    "kernelspec": {
      "name": "python3",
      "display_name": "Python 3"
    }
  },
  "cells": [
    {
      "cell_type": "markdown",
      "metadata": {
        "id": "view-in-github",
        "colab_type": "text"
      },
      "source": [
        "<a href=\"https://colab.research.google.com/github/vivamoto/challenges/blob/master/N%C3%BAmero_faltante.ipynb\" target=\"_parent\"><img src=\"https://colab.research.google.com/assets/colab-badge.svg\" alt=\"Open In Colab\"/></a>"
      ]
    },
    {
      "cell_type": "markdown",
      "metadata": {
        "id": "dbAIypNI89wE"
      },
      "source": [
        "# Número faltante\r\n",
        "\r\n",
        "Dada uma entrada onde cada linha contém um vetor de inteiros em uma ordem aleatória (com a exceção da primeira linha, onde representa o número vetores que irão vir). O número de cada vetor, se ordenado, deve formar uma sequência numérica. Somente um número esta faltando na sequência. Desenvolva um algoritmo que identifique e imprima o número que esta faltando.\r\n",
        "\r\n",
        "**Entrada:**\r\n",
        "\r\n",
        "Uma sequência de vetores com números inteiros não ordenados.\r\n",
        "\r\n",
        "**Saída:**\r\n",
        "\r\n",
        "\r\n",
        "\r\n",
        "**Test case:**\r\n",
        "```\r\n",
        "ENTRADAS\r\n",
        "3\r\n",
        "[4,2,3,1,6]\r\n",
        "[10,12,14,11,15]\r\n",
        "[12032,12030,12031,12034,12036,12035]\r\n",
        "\r\n",
        "SAÍDA ESPERADA\r\n",
        "5\r\n",
        "13\r\n",
        "12033\r\n",
        "```"
      ]
    },
    {
      "cell_type": "code",
      "metadata": {
        "id": "CpZ5IQnd89Xg",
        "outputId": "3b835073-7f91-4eaa-9643-5ecfb975eac4",
        "colab": {
          "base_uri": "https://localhost:8080/"
        }
      },
      "source": [
        "def processInput ( input ):\r\n",
        "    # \"Aqui você deve criar seu algoritmo para processar a entrada e depois retorna-la.\"\r\n",
        "    vec.append(input)\r\n",
        "    result = ''\r\n",
        "    \r\n",
        "    # Processa tudo após receber a última entrda.\r\n",
        "    if len(vec) == int(vec[0]) + 1:\r\n",
        "      for row in vec[1:]:\r\n",
        "        # Transforma cada linha num vetor ordenado\r\n",
        "        vecB = [int(i) for i in row[1:-2].split(',')]\r\n",
        "        vecB.sort()\r\n",
        "        \r\n",
        "        # Encontra o número faltante\r\n",
        "        i = 0\r\n",
        "        while i < len(vecB) - 1:\r\n",
        "          if vecB[i] + 1 != vecB[i + 1]:\r\n",
        "            result += str(vecB[i] + 1) + '\\n'\r\n",
        "          i += 1\r\n",
        "\r\n",
        "    return result\r\n",
        "\r\n",
        "#Este e um exemplo de processamento de entradas (inputs), sinta-se a vontade para altera-lo conforme necessidade da questao.\r\n",
        "vec =[]\r\n",
        "values = ['3\\r', \r\n",
        "          '[4,2,3,1,6]\\r', \r\n",
        "          '[10,12,14,11,15]\\r', \r\n",
        "          '[12032,12030,12031,12034,12036,12035]\\r']\r\n",
        "\r\n",
        "for value in values:\r\n",
        "  print(processInput(value)) "
      ],
      "execution_count": 1,
      "outputs": [
        {
          "output_type": "stream",
          "text": [
            "\n",
            "\n",
            "\n",
            "5\n",
            "13\n",
            "12033\n",
            "\n"
          ],
          "name": "stdout"
        }
      ]
    }
  ]
}