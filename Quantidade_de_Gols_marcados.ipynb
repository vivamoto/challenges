{
  "nbformat": 4,
  "nbformat_minor": 0,
  "metadata": {
    "colab": {
      "name": "Quantidade de Gols marcados.ipynb",
      "provenance": [],
      "authorship_tag": "ABX9TyNf/ak6JYBjRe8q5MeYBmgj",
      "include_colab_link": true
    },
    "kernelspec": {
      "name": "python3",
      "display_name": "Python 3"
    }
  },
  "cells": [
    {
      "cell_type": "markdown",
      "metadata": {
        "id": "view-in-github",
        "colab_type": "text"
      },
      "source": [
        "<a href=\"https://colab.research.google.com/github/vivamoto/challenges/blob/master/Quantidade_de_Gols_marcados.ipynb\" target=\"_parent\"><img src=\"https://colab.research.google.com/assets/colab-badge.svg\" alt=\"Open In Colab\"/></a>"
      ]
    },
    {
      "cell_type": "markdown",
      "metadata": {
        "id": "dxnArG9O6lDw"
      },
      "source": [
        "# 2. Quantidade de Gols marcados.\r\n",
        "O número de gols conquistado em partidas por duas equipes de futebol é dado em forma de duas listas.  \r\n",
        "Considere:\r\n",
        "- A equipe A jogou 4 partidas e marcou 0, 7, 5, 2 gols em cada partida respectivamente (equipeA = [0, 7, 5, 2]).\r\n",
        "- A equipe B jogou 3 partidas e marcou 6, 1 e 5 gols em cada partida respectivamente (equipeB = [6, 1, 5]).  \r\n",
        "Para cada partida da equipe B, calcule o número total de partidas em que a equipe A marcou menos ou a mesma quantidade de gols.  \r\n",
        "\r\n",
        "No caso abaixo:\r\n",
        "- Em sua primeira partida a Equipe B fez 6 gols. Neste caso a equipe A tem 3 partidas com 6 ou menos gols marcados, partidas [1, 3, 4]. O comprimento deste array é de 3 (partidas), portanto a resposta no momento é:\r\n",
        "```\r\n",
        "3\r\n",
        "```\r\n",
        "- Em sua segunda partida, a equipe B marcou 1 gol. Neste caso a equipe A tem apenas uma partida com 1 ou menos gols, partida [1]. O comprimento deste array é\r\n",
        "de 1 (partidas) portanto a resposta agora é:\r\n",
        "```\r\n",
        "3\r\n",
        "1\r\n",
        "```\r\n",
        "- Em sua terceira partida a equipe B marcou 5 gols. Neste caso a equipe A tem 3 partidas com 5 ou menos gols [1, 3, 4]. O comprimento deste array é 3 (partidas)\r\n",
        "portanto a resposta agora é:\r\n",
        "```\r\n",
        "3\r\n",
        "1\r\n",
        "3\r\n",
        "```\r\n",
        "Resposta: [3, 1, 3]  \r\n",
        "Exemplo real com entradas e saídas desejadas.:   \r\n",
        "Entrada fornecida\r\n",
        "```\r\n",
        "4 //numero de partidas da equipe A\r\n",
        "0 //gols marcados na partida 1\r\n",
        "7 //gols marcados na partida 2\r\n",
        "5 //gols marcados na partida 3\r\n",
        "2 //gols marcados na partida 4\r\n",
        "3 //numero de partidas da equipe B\r\n",
        "6 //gols marcados na partida 1\r\n",
        "1 //gols marcaos na partida 2\r\n",
        "5 //gols marcados na partida 3\r\n",
        "```\r\n",
        "Saída esperada\r\n",
        "```\r\n",
        "3\r\n",
        "1\r\n",
        "3\r\n",
        "```\r\n",
        "Descrição da Função\r\n",
        "\r\n",
        "A função deve imprimir o array `m` de números inteiros positivos, um elemento por linha. Para cada elemento equipeB\\[i\\] selecione a quantidade de elementos em equipeA onde, $equipeA[j] ≤ equipeB[i]$, $0 ≤ j < n$ e $0 ≤ i < m$, na ordem dada.\r\n",
        "Restrições conhecidas:\r\n",
        "- 2 ≤ n, m ≤ 105\r\n",
        "- 1 ≤ equipeA[j] ≤ 109, onde 0 ≤ j < n.\r\n",
        "- 1 ≤ equipeB[i] ≤ 109, onde 0 ≤ i < m.\r\n",
        "\r\n",
        "```\r\n",
        "ENTRADAS      SAÍDA ESPERADA\r\n",
        "4                 2\r\n",
        "1                 4\r\n",
        "4\r\n",
        "2\r\n",
        "4\r\n",
        "2\r\n",
        "3\r\n",
        "5\r\n",
        "```"
      ]
    },
    {
      "cell_type": "code",
      "metadata": {
        "id": "VP2Gz4Wf6jh8",
        "colab": {
          "base_uri": "https://localhost:8080/"
        },
        "outputId": "549504ae-8a59-4bfd-a549-42a8102ef248"
      },
      "source": [
        "def processInput ( input ):\r\n",
        "    #\"Aqui você deve criar seu algoritmo para processar a entrada e depois retorna-la.\"\r\n",
        "    entradas = [int(i) for i in input.split('\\n')]\r\n",
        "    lenA = entradas[0]\r\n",
        "    lenB = entradas[lenA + 1]\r\n",
        "    equipeA = [entradas[i + 1] for i in range(lenA)]\r\n",
        "    equipeB = [entradas[lenA + 2 + i] for i in range(lenB)]\r\n",
        "\r\n",
        "    result = ''\r\n",
        "    for i in equipeB:\r\n",
        "      k = 0\r\n",
        "      for j in equipeA:\r\n",
        "        if j < i:\r\n",
        "          k += 1\r\n",
        "      result += str(k) + '\\n'\r\n",
        "      \r\n",
        "    return result\r\n",
        "\r\n",
        "# Este e um exemplo de processamento de entradas (inputs), \r\n",
        "# sinta-se a vontade para altera-lo conforme necessidade da questao.\r\n",
        "#value = input()\r\n",
        "value = '4\\n1\\n4\\n2\\n4\\n2\\n3\\n5'\r\n",
        "print(processInput(value))\r\n"
      ],
      "execution_count": null,
      "outputs": [
        {
          "output_type": "stream",
          "text": [
            "2\n",
            "4\n",
            "\n"
          ],
          "name": "stdout"
        }
      ]
    }
  ]
}