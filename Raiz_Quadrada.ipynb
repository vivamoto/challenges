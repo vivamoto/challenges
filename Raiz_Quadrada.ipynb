{
  "nbformat": 4,
  "nbformat_minor": 0,
  "metadata": {
    "colab": {
      "name": "Raiz Quadrada.ipynb",
      "provenance": [],
      "authorship_tag": "ABX9TyPaQ8shvaORjkKiFa4zS/Pp",
      "include_colab_link": true
    },
    "kernelspec": {
      "name": "python3",
      "display_name": "Python 3"
    }
  },
  "cells": [
    {
      "cell_type": "markdown",
      "metadata": {
        "id": "view-in-github",
        "colab_type": "text"
      },
      "source": [
        "<a href=\"https://colab.research.google.com/github/vivamoto/challenges/blob/master/Raiz_Quadrada.ipynb\" target=\"_parent\"><img src=\"https://colab.research.google.com/assets/colab-badge.svg\" alt=\"Open In Colab\"/></a>"
      ]
    },
    {
      "cell_type": "markdown",
      "metadata": {
        "id": "A6NASu898Kj9"
      },
      "source": [
        "# Raiz Quadrada\r\n",
        "Leia as instruções atentamente e NÃO USE funções de nenhuma biblioteca. (Ex: sqrt() em C/C++)\r\n",
        "\r\n",
        "\r\n",
        "\r\n",
        "Nesta questão nós iremos implementar uma maneira simples de calcular a raiz quadrada de um número positivo.\r\n",
        "\r\n",
        "\r\n",
        "\r\n",
        "Uma maneira simples de se calcular a raiz quadrada de um número positivo X consiste em:\r\n",
        "\r\n",
        "1. Escolher dois números, $S$ e $E$, de maneira que a raiz quadrada de $X$, pertença ao intervalo $[ S, E ]$.\r\n",
        "1. Escolha a precisão desejada $e$ (Quanto mais casas decimais forem utilizadas, resultará em uma melhor aproximação).\r\n",
        "1. Como nós queremos somente que raiz de $X$ pertença a $[ S, E ]$, uma aproximação para raiz de $X$ é o valor intermediário ($M$) do intervalo $[ S, E ]$.\r\n",
        "1. Enquanto o tamanho do nosso intervalo $[ S, E ]$ é maior que $e$, nós repetimos o processo:\r\n",
        " 1. Ache o valor intermediário( M).\r\n",
        " 1. Se $M^2> X$, significa que raiz de $X$ pertence a $[ S, M ]$, então podemos mudar o valor de $E$ para $M$.\r\n",
        " 1. Se não, nós temos que a raiz de $X$ pertence a $[ M, E ]$ , então podemos mudar o valor de $S$ para $M$.\r\n",
        "1. Quando o tamanho do nosso intervalo for menor que $e$, o valor intermediário $M$ será uma boa aproximação da raiz de $X$.\r\n",
        "\r\n",
        "\r\n",
        "Escrava que calcule a raiz quadrada de números inteiros de 10 a 20, usando o método descrito acima, e imprima os valores com 3 casas decimais (recomendamos uma precisão de 10 -5).\r\n",
        "\r\n",
        "\r\n",
        "**Test case** \r\n",
        "```\r\n",
        "ENTRADAS\r\n",
        "10\r\n",
        "11\r\n",
        "12\r\n",
        "13\r\n",
        "14\r\n",
        "15\r\n",
        "16\r\n",
        "17\r\n",
        "18\r\n",
        "19\r\n",
        "20\r\n",
        "\r\n",
        "SAÍDA ESPERADA\r\n",
        "3.162\r\n",
        "3.317\r\n",
        "3.464\r\n",
        "3.606\r\n",
        "3.742\r\n",
        "3.873\r\n",
        "4.000\r\n",
        "4.123\r\n",
        "4.243\r\n",
        "4.359\r\n",
        "4.472\r\n",
        "```\r\n"
      ]
    },
    {
      "cell_type": "code",
      "metadata": {
        "colab": {
          "base_uri": "https://localhost:8080/"
        },
        "id": "xanW59ZV8J2N",
        "outputId": "d0003cec-8c34-41d5-f7b9-88a7a891ebec"
      },
      "source": [
        "def processInput ( input ):\r\n",
        "    #\"Aqui você deve criar seu algoritmo para processar a entrada e depois retorna-la.\"\r\n",
        "    vec.append(int(input))\r\n",
        "    result = ''\r\n",
        "    if len(vec) == 11:\r\n",
        "      for X in vec:\r\n",
        "        S = 1\r\n",
        "        E = X\r\n",
        "        epsilon = 1e-10\r\n",
        "        while E-S > epsilon:\r\n",
        "          M = (E+S)/2\r\n",
        "          if M**2 > X:\r\n",
        "            E = M \r\n",
        "          else:\r\n",
        "            S = M\r\n",
        "        result += (str(round(M, 3)) + '000')[:5] + '\\n'\r\n",
        "      \r\n",
        "    return result\r\n",
        "\r\n",
        "#Este e um exemplo de processamento de entradas (inputs), sinta-se a vontade para altera-lo conforme necessidade da questao.\r\n",
        "vec = []\r\n",
        "values = ['10\\r', '11\\r', '12\\r', '13\\r', '14\\r', '15\\r', '16\\r', '17\\r', '18\\r', '19\\r', '20\\r']\r\n",
        "for value in values:\r\n",
        "  print(processInput(value))"
      ],
      "execution_count": 1,
      "outputs": [
        {
          "output_type": "stream",
          "text": [
            "\n",
            "\n",
            "\n",
            "\n",
            "\n",
            "\n",
            "\n",
            "\n",
            "\n",
            "\n",
            "3.162\n",
            "3.317\n",
            "3.464\n",
            "3.606\n",
            "3.742\n",
            "3.873\n",
            "4.000\n",
            "4.123\n",
            "4.243\n",
            "4.359\n",
            "4.472\n",
            "\n"
          ],
          "name": "stdout"
        }
      ]
    }
  ]
}