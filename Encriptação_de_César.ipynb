{
  "nbformat": 4,
  "nbformat_minor": 0,
  "metadata": {
    "colab": {
      "name": "Encriptação de César.ipynb",
      "provenance": [],
      "authorship_tag": "ABX9TyMH8EL5b8yAwDWUECZmq+2v",
      "include_colab_link": true
    },
    "kernelspec": {
      "name": "python3",
      "display_name": "Python 3"
    }
  },
  "cells": [
    {
      "cell_type": "markdown",
      "metadata": {
        "id": "view-in-github",
        "colab_type": "text"
      },
      "source": [
        "<a href=\"https://colab.research.google.com/github/vivamoto/challenges/blob/master/Encripta%C3%A7%C3%A3o_de_C%C3%A9sar.ipynb\" target=\"_parent\"><img src=\"https://colab.research.google.com/assets/colab-badge.svg\" alt=\"Open In Colab\"/></a>"
      ]
    },
    {
      "cell_type": "markdown",
      "metadata": {
        "id": "eRpBuX0M8eqe"
      },
      "source": [
        "# Encriptação de César\r\n",
        "\r\n",
        "Código de César ganhou este nome de Julio César que o usou enquanto escrevia cartas para Cícero. Uma coisa interessante é que este código continuou sendo usado em 1915 pelo exército Russo apenas porque um código simples como este parecia ser usável pelos membros do exército.\r\n",
        "\r\n",
        "O código de César funciona como descrito abaixo:\r\n",
        "\r\n",
        "Cada letra de um texto decifrado é trocada para outra letra do alfabeto latino. De acordo com a regra deve ser a terceira letra à direta a partir da letra que desejamos encriptar. Por exemplo, a letra A será encriptada como D, a letra B como E e assim por diante. A letra Z é encriptada como C. Para decifrar completamente o texto nós repetimos a operação para cada letra do texto.\r\n",
        "\r\n",
        "**Entrada:**\r\n",
        "\r\n",
        "Como entrada você irá receber um texto contendo apenas letras maiúsculas do alfabeto latino e espaços. O tamanho da entrada não irá exceder 100 caracteres.\r\n",
        "\r\n",
        "**Saída:**\r\n",
        "\r\n",
        "A saída deve conter o texto encriptado com o código de César.\r\n",
        "\r\n",
        "**Test case**\r\n",
        "```\r\n",
        "ENTRADAS\r\n",
        "4\r\n",
        "GEEK HUNTER\r\n",
        "TOP DEVELOPERS IN BRAZIL\r\n",
        "I AM GONNA ROCK IN THIS TEST\r\n",
        "\r\n",
        "SAÍDA ESPERADA\r\n",
        "\r\n",
        "JHHN KXQWHU\r\n",
        "DZVRPH MREV\r\n",
        "WRS GHYHORSHUV LQ EUDCLO\r\n",
        "L DP JRQQD URFN LQ WKLV WHVW\r\n",
        "```"
      ]
    },
    {
      "cell_type": "code",
      "metadata": {
        "colab": {
          "base_uri": "https://localhost:8080/"
        },
        "id": "dqDDmiWM8eLu",
        "outputId": "530d372c-08c1-45d4-af17-b3a75b63b53b"
      },
      "source": [
        "def processInput ( input ):\r\n",
        "    # \"Aqui você deve criar seu algoritmo para processar a entrada e depois retorna-la.\"\r\n",
        "    \r\n",
        "    # Guarda todas as entradas numa lista\r\n",
        "    vec.append(input)\r\n",
        "    len_vec = int(vec[0])  # Número de linhas esperadas\r\n",
        "    result = ''\r\n",
        "    \r\n",
        "    # Processa os dados após receber todas as entradas.\r\n",
        "    if len(vec) == len_vec + 1:\r\n",
        "      for row in vec[1:]:\r\n",
        "        code = ''\r\n",
        "        for i in row:\r\n",
        "          # Mantém os espaços no lugar\r\n",
        "          if i == ' ':\r\n",
        "            code += i\r\n",
        "          else:\r\n",
        "            # Converte cada letra para o código ASCII\r\n",
        "            # Se o código for maior que o ASCII de Z, então retorna para o ASCII de A\r\n",
        "            if ord(i) + 3 > ord('Z'):\r\n",
        "              asc = ord(i) + 2 - ord('Z') + ord('A')\r\n",
        "            else:\r\n",
        "              asc = ord(i) + 3\r\n",
        "            code += chr(asc)\r\n",
        "            \r\n",
        "        result += code + '\\n'\r\n",
        "    return  result\r\n",
        "\r\n",
        "#Este e um exemplo de processamento de entradas (inputs), sinta-se a vontade para altera-lo conforme necessidade da questao.\r\n",
        "vec = []\r\n",
        "values = ['4\\r', \r\n",
        "          'GEEK HUNTER\\r', \r\n",
        "          'AWSOME JOBS\\r',\r\n",
        "          'TOP DEVELOPERS IN BRAZIL\\r', \r\n",
        "          'I AM GONNA ROCK IN THIS TEST\\r']\r\n",
        "\r\n",
        "for value in values:\r\n",
        "  print(processInput(value))"
      ],
      "execution_count": 1,
      "outputs": [
        {
          "output_type": "stream",
          "text": [
            "\n",
            "\n",
            "\n",
            "\n",
            "JHHN KXQWHU\u0010\n",
            "DZVRPH MREV\u0010\n",
            "WRS GHYHORSHUV LQ EUDCLO\u0010\n",
            "L DP JRQQD URFN LQ WKLV WHVW\u0010\n",
            "\n"
          ],
          "name": "stdout"
        }
      ]
    }
  ]
}