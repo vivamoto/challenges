{
  "nbformat": 4,
  "nbformat_minor": 0,
  "metadata": {
    "colab": {
      "name": " Calcule os zeros.ipynb",
      "provenance": [],
      "collapsed_sections": [],
      "authorship_tag": "ABX9TyNaBgNGZ13A8JpRgK7Gs6qh",
      "include_colab_link": true
    },
    "kernelspec": {
      "name": "python3",
      "display_name": "Python 3"
    }
  },
  "cells": [
    {
      "cell_type": "markdown",
      "metadata": {
        "id": "view-in-github",
        "colab_type": "text"
      },
      "source": [
        "<a href=\"https://colab.research.google.com/github/vivamoto/challenges/blob/master/Calcule_os_zeros.ipynb\" target=\"_parent\"><img src=\"https://colab.research.google.com/assets/colab-badge.svg\" alt=\"Open In Colab\"/></a>"
      ]
    },
    {
      "cell_type": "markdown",
      "metadata": {
        "id": "2lSIexrF9WOk"
      },
      "source": [
        "# Calcule os zeros\r\n",
        "\r\n",
        "Dado uma entrada composta por dois números, conte quantos zeros existem entre estes dois números (incluindo eles mesmos). Deve ser contado cada zero presente nos números. Os números sempre são positivos e entre 0 e 999, e o primeiro número sempre é menor do que o segundo. A primeira linha da entrada sempre o números de tuplas que serão passadas pelo algoritmo e as próximas linhas serão as tuplas (uma por linha). Veja o exemplo abaixo:\r\n",
        "\r\n",
        "\r\n",
        "\r\n",
        "Entrada:\r\n",
        "\r\n",
        "\r\n",
        "\r\n",
        "Saída:\r\n",
        "\r\n",
        "\r\n",
        "\r\n",
        "PS: O teste é automaticamente avaliado, similar a um teste unitário, o formato de saída deve ser idêntico ao esperado como mostrado no exemplo acima.\r\n",
        "\r\n",
        "\r\n",
        "**Teste case:**\r\n",
        "```\r\n",
        "ENTRADAS\r\n",
        "5\r\n",
        "17 18\r\n",
        "199 200\r\n",
        "199 301\r\n",
        "400 500\r\n",
        "0 102\r\n",
        "\r\n",
        "SAÍDA ESPERADA\r\n",
        "\r\n",
        "0\r\n",
        "2\r\n",
        "23\r\n",
        "22\r\n",
        "14\r\n",
        "```"
      ]
    },
    {
      "cell_type": "code",
      "metadata": {
        "colab": {
          "base_uri": "https://localhost:8080/"
        },
        "id": "mpzII0rZ9V1H",
        "outputId": "56fb250c-5f69-4482-d771-f93b80218a70"
      },
      "source": [
        "def processInput ( input ):\r\n",
        "    # \"Aqui você deve criar seu algoritmo para processar a entrada e depois retorna-la.\"\r\n",
        "    vec.append(input)\r\n",
        "    result = ''\r\n",
        "    \r\n",
        "    if len(vec) == int(vec[0]) + 1:\r\n",
        "      \r\n",
        "      for row in vec[1:]:\r\n",
        "        # Lê os dois valores de cada linha\r\n",
        "        row_split = row.split(' ')\r\n",
        "        A, B = int(row_split[0]), int(row_split[1])\r\n",
        "        \r\n",
        "        # Conta o número de zeros\r\n",
        "        count = 0\r\n",
        "        for i in range(A, B+1):\r\n",
        "          for j in str(i):\r\n",
        "            if j == '0':\r\n",
        "              count += 1\r\n",
        "        result += str(count) + '\\n'\r\n",
        "\r\n",
        "    return result\r\n",
        "\r\n",
        "#Este e um exemplo de processamento de entradas (inputs), sinta-se a vontade para altera-lo conforme necessidade da questao.\r\n",
        "vec = []\r\n",
        "values = ['5\\r', \r\n",
        "          '17 18\\r', \r\n",
        "          '199 200\\r', \r\n",
        "          '199 301\\r', \r\n",
        "          '400 500\\r', \r\n",
        "          '0 102']\r\n",
        "\r\n",
        "for value in values:\r\n",
        "  print(processInput(value)) "
      ],
      "execution_count": 1,
      "outputs": [
        {
          "output_type": "stream",
          "text": [
            "\n",
            "\n",
            "\n",
            "\n",
            "\n",
            "0\n",
            "2\n",
            "23\n",
            "22\n",
            "14\n",
            "\n"
          ],
          "name": "stdout"
        }
      ]
    }
  ]
}