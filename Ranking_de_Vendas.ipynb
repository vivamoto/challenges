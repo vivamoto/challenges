{
  "nbformat": 4,
  "nbformat_minor": 0,
  "metadata": {
    "colab": {
      "name": "Ranking de Vendas.ipynb",
      "provenance": [],
      "authorship_tag": "ABX9TyNdTUOR1L99K4EAzPZFNfPq",
      "include_colab_link": true
    },
    "kernelspec": {
      "name": "python3",
      "display_name": "Python 3"
    }
  },
  "cells": [
    {
      "cell_type": "markdown",
      "metadata": {
        "id": "view-in-github",
        "colab_type": "text"
      },
      "source": [
        "<a href=\"https://colab.research.google.com/github/vivamoto/challenges/blob/master/Ranking_de_Vendas.ipynb\" target=\"_parent\"><img src=\"https://colab.research.google.com/assets/colab-badge.svg\" alt=\"Open In Colab\"/></a>"
      ]
    },
    {
      "cell_type": "markdown",
      "metadata": {
        "id": "E2daBCvQ7TVV"
      },
      "source": [
        "# Ranking de Vendas\r\n",
        "\r\n",
        "\r\n",
        "\r\n",
        "```\r\n",
        "ENTRADAS       \r\n",
        "7\r\n",
        "55 100 100 40 100 50 35\r\n",
        "4\r\n",
        "20 60 40 10\r\n",
        "\r\n",
        "SAÍDA ESPERADA\r\n",
        "6\r\n",
        "2\r\n",
        "4\r\n",
        "6\r\n",
        "```"
      ]
    },
    {
      "cell_type": "code",
      "metadata": {
        "id": "XyfTuXnm7SyO",
        "outputId": "81a69d95-b94b-44e5-be58-d04afd5da208",
        "colab": {
          "base_uri": "https://localhost:8080/"
        }
      },
      "source": [
        "def processInput ( input ):\r\n",
        "    #\"Aqui você deve criar seu algoritmo para processar a entrada e depois retorna-la.\"\r\n",
        "    vec.append(input)\r\n",
        "    result = ''\r\n",
        "    if len(vec) == 4:\r\n",
        "      lenV, lenC = int(vec[0]), int(vec[2])\r\n",
        "      vecV = [int(i) for i in vec[1].split(' ')]\r\n",
        "      vecC = [int(i) for i in vec[3].split(' ')]\r\n",
        "      vecV.sort()\r\n",
        "      vecV = list(dict.fromkeys(vecV))\r\n",
        "      for i in vecC:\r\n",
        "        pos = 1    # posição de vendas incial é o primeiro colocado\r\n",
        "        for j, k in enumerate(vecV):\r\n",
        "          if i < k:\r\n",
        "            pos += 1\r\n",
        "            \r\n",
        "        result += str(pos) + '\\n'\r\n",
        "        #print(pos)\r\n",
        "        \r\n",
        "    return result\r\n",
        "\r\n",
        "#Este e um exemplo de processamento de entradas (inputs), sinta-se a vontade para altera-lo conforme necessidade da questao.\r\n",
        "vec = []\r\n",
        "values = ['7\\r', \r\n",
        "          '55 100 100 40 100 50 35\\r', \r\n",
        "          '4\\r', \r\n",
        "          '20 60 40 10\\r']\r\n",
        "for value in values:\r\n",
        "  print(processInput(value))\r\n",
        "\r\n"
      ],
      "execution_count": 1,
      "outputs": [
        {
          "output_type": "stream",
          "text": [
            "\n",
            "\n",
            "\n",
            "6\n",
            "2\n",
            "4\n",
            "6\n",
            "\n"
          ],
          "name": "stdout"
        }
      ]
    }
  ]
}